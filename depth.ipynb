{
 "cells": [
  {
   "cell_type": "code",
   "execution_count": 4,
   "metadata": {
    "scrolled": true
   },
   "outputs": [
    {
     "name": "stdout",
     "output_type": "stream",
     "text": [
      "{'a': 'w', 'b': 'w', 'c': 'w', 'd': 'w', 'e': 'w', 'f': 'w'}\n",
      "{'a': None, 'b': None, 'c': None, 'd': None, 'e': None, 'f': None}\n",
      "{'a': [-1, -1], 'b': [-1, -1], 'c': [-1, -1], 'd': [-1, -1], 'e': [-1, -1], 'f': [-1, -1]}\n"
     ]
    }
   ],
   "source": [
    "adj_list ={'a':['b','c'],\n",
    "           'b':['d','e'],\n",
    "           'c':['b','f'],\n",
    "           'd':[],\n",
    "           'e':['f'],\n",
    "           'f':[]\n",
    "    \n",
    "}\n",
    "\n",
    "color={}\n",
    "parent={}\n",
    "traverse_time={}\n",
    "dfs_traversal_output=[]\n",
    "for node in adj_list.keys():\n",
    "    color[node]='w'\n",
    "    parent[node]=None\n",
    "    traverse_time[node]=[-1,-1]\n",
    "\n",
    "print(color)\n",
    "print(parent)\n",
    "print(traverse_time)\n",
    "\n",
    "\n"
   ]
  },
  {
   "cell_type": "code",
   "execution_count": 5,
   "metadata": {},
   "outputs": [
    {
     "name": "stdout",
     "output_type": "stream",
     "text": [
      "{'a': None, 'b': 'a', 'c': 'a', 'd': 'b', 'e': 'b', 'f': 'e'}\n",
      "{'a': [0, 5], 'b': [0, 3], 'c': [4, 4], 'd': [0, 0], 'e': [1, 2], 'f': [1, 1]}\n",
      "['a', 'b', 'd', 'e', 'f', 'c']\n"
     ]
    }
   ],
   "source": [
    "time=0\n",
    "def dfs(u):\n",
    "    global time \n",
    "    color[u]='g'\n",
    "    traverse_time[u][0]=time\n",
    "    dfs_traversal_output.append(u)\n",
    "    for v in adj_list[u]:\n",
    "        if color[v]=='w':\n",
    "            parent[v]=u\n",
    "            dfs(v)\n",
    "    color[u]='b'\n",
    "    traverse_time[u][1]=time\n",
    "    time+=1\n",
    "dfs('a')\n",
    "print(parent)\n",
    "print(traverse_time)\n",
    "print(dfs_traversal_output)\n",
    "\n"
   ]
  },
  {
   "cell_type": "code",
   "execution_count": 6,
   "metadata": {},
   "outputs": [
    {
     "name": "stdout",
     "output_type": "stream",
     "text": [
      "a -> [0, 5]\n",
      "b -> [0, 3]\n",
      "c -> [4, 4]\n",
      "d -> [0, 0]\n",
      "e -> [1, 2]\n",
      "f -> [1, 1]\n"
     ]
    }
   ],
   "source": [
    "for node in adj_list.keys():\n",
    "    print(node,\"->\",traverse_time[node])"
   ]
  },
  {
   "cell_type": "code",
   "execution_count": null,
   "metadata": {},
   "outputs": [],
   "source": []
  }
 ],
 "metadata": {
  "kernelspec": {
   "display_name": "Python 3",
   "language": "python",
   "name": "python3"
  },
  "language_info": {
   "codemirror_mode": {
    "name": "ipython",
    "version": 3
   },
   "file_extension": ".py",
   "mimetype": "text/x-python",
   "name": "python",
   "nbconvert_exporter": "python",
   "pygments_lexer": "ipython3",
   "version": "3.7.6"
  }
 },
 "nbformat": 4,
 "nbformat_minor": 4
}
